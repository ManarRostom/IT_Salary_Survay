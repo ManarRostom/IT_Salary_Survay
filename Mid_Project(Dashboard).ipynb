{
 "cells": [
  {
   "cell_type": "markdown",
   "id": "f3b29c90",
   "metadata": {},
   "source": [
    "<center><span style=\"color:#b30000;font-size:40px;\"><strong>Epsilon Mid Project</strong></span></center>\n",
    "<center><span style=\"color:#b30000;font-size:30px;\"><br>IT Salary Survey EU (2018 - 2019 - 2020)<br><br><strong>(Dashboard\n",
    "    Part)</strong></span></center>"
   ]
  },
  {
   "cell_type": "markdown",
   "id": "436a4072",
   "metadata": {},
   "source": [
    "<span style=\"color:#2929a3;font-size:20px;\">Import Libraries</span>"
   ]
  },
  {
   "cell_type": "code",
   "execution_count": 95,
   "id": "787d5f0f",
   "metadata": {},
   "outputs": [],
   "source": [
    "import pandas as pd\n",
    "import numpy as np\n",
    "import plotly.express as px\n",
    "import plotly.figure_factory as ff\n",
    "import streamlit as st"
   ]
  },
  {
   "cell_type": "markdown",
   "id": "d2e673b5",
   "metadata": {},
   "source": [
    "<span style=\"color:#2929a3;font-size:20px;\">Read Datasets </span>"
   ]
  },
  {
   "cell_type": "code",
   "execution_count": 206,
   "id": "be6f7f34",
   "metadata": {},
   "outputs": [],
   "source": [
    "df = pd.read_json('Datasets/Analyzed_Dataset_json.json')\n",
    "df_languages = pd.read_csv('Datasets/languages_df.csv')\n",
    "df_technologies = pd.read_csv('Datasets/technologies_df.csv')\n"
   ]
  },
  {
   "cell_type": "code",
   "execution_count": 8,
   "id": "222f4c12",
   "metadata": {},
   "outputs": [],
   "source": [
    "## Fixing Year Column\n",
    "df['Year'] = df['Year'].apply(lambda r:str(r).split('.')[0])"
   ]
  },
  {
   "cell_type": "code",
   "execution_count": null,
   "id": "f69a2fb9",
   "metadata": {},
   "outputs": [],
   "source": []
  },
  {
   "cell_type": "markdown",
   "id": "bf6e5a4d",
   "metadata": {},
   "source": [
    "<span style=\"color:#b30000;font-size:25px;\">\n",
    "    <strong>General Dashboard Link </strong></span>"
   ]
  },
  {
   "cell_type": "markdown",
   "id": "740485f0",
   "metadata": {},
   "source": [
    "### https://manarrostom-general-dashboard5-general-dashboard-994plx.streamlit.app/"
   ]
  },
  {
   "cell_type": "markdown",
   "id": "df7b800c",
   "metadata": {},
   "source": [
    "<span style=\"color:#b30000;font-size:25px;\">\n",
    "    <strong>Summary Dashboard Link </strong></span>"
   ]
  },
  {
   "cell_type": "markdown",
   "id": "9335bf7c",
   "metadata": {},
   "source": [
    "### https://manarrostom-summary-dashboard-4-summary-dashboard-palbnj.streamlit.app/"
   ]
  },
  {
   "cell_type": "markdown",
   "id": "d3ff6ce9",
   "metadata": {},
   "source": [
    "<span style=\"color:#b30000;font-size:35px;\">\n",
    "    <strong>General Dashboard Code</strong><br><br></span>"
   ]
  },
  {
   "cell_type": "code",
   "execution_count": 6,
   "id": "c1e50fca",
   "metadata": {},
   "outputs": [
    {
     "name": "stdout",
     "output_type": "stream",
     "text": [
      "Writing General_Dashboard.py\n"
     ]
    }
   ],
   "source": [
    "%%writefile General_Dashboard.py\n",
    "\n",
    "import pandas as pd\n",
    "import plotly.express as px\n",
    "import plotly.figure_factory as ff\n",
    "import streamlit as st\n",
    "\n",
    "df = pd.read_json('Datasets/Analyzed_Dataset_json.json')\n",
    "Numerical_Variables = ['Age','Years_of_Experience','Current_Salary','Bonus+Stocks','Salary_One_Year_Ago','Bonus+Stocks_One_year_Ago','Number_of_Vacation_Days','Percentage_of_Salary_Change','Percentage_of_Bonus_Stocks_Change']\n",
    "Categorical_Variables = ['Gender','City','Position','Level','Main_Language_at_Work','Main_Technology','Contract_Duration','Company_Type','Company_Size','Year']\n",
    "\n",
    "## Fixing Year Column\n",
    "df['Year'] = df['Year'].apply(lambda r:str(r).split('.')[0])\n",
    "\n",
    "## Data Describtion Page\n",
    "def DataDescription():\n",
    "    st.title('Data Description Page')\n",
    "    st.markdown('#### Sample rows of the Data')\n",
    "    st.write(df.sample(5))\n",
    "    \n",
    "    st.markdown('#### Data Description')\n",
    "    st.write(df.describe())\n",
    "    \n",
    "    st.markdown('#### Null Values')\n",
    "    st.write(df.isnull().sum())\n",
    "    \n",
    "    st.markdown('#### Data Types')\n",
    "    st.write(df.dtypes)\n",
    "    \n",
    "## Numerical Charts Page\n",
    "def NumericalCharts():\n",
    "    ### Histogram Plot ###\n",
    "    st.title('Numerical Charts Page')\n",
    "    st.sidebar.subheader('Histogram Plot')\n",
    "    hist_col = st.sidebar.selectbox('Choose Historam Column',Numerical_Variables)\n",
    "    hist_fig = px.histogram(data_frame=df,x=hist_col,text_auto=True,color_discrete_sequence=['#4d0000'])\n",
    "    st.markdown('#### Histogram of '+hist_col+' Column')\n",
    "    st.plotly_chart(hist_fig)\n",
    "    \n",
    "    ### Box Plot ###\n",
    "    st.sidebar.subheader('Box Plot')\n",
    "    Box_col = st.sidebar.selectbox('Choose Box Column',Numerical_Variables)\n",
    "    color_Box = st.sidebar.checkbox('AddColor')\n",
    "    if color_Box:\n",
    "        c_Box = st.sidebar.selectbox('Select Color : ',Categorical_Variables)\n",
    "        box_fig = px.box(data_frame=df,x=Box_col,color = c_Box,color_discrete_sequence=px.colors.qualitative.Set1)\n",
    "        st.markdown('#### BoxPlot of '+Box_col+' Column')\n",
    "        st.plotly_chart(box_fig)\n",
    "    else:\n",
    "        box_fig = px.box(data_frame=df,x=Box_col,color_discrete_sequence=px.colors.qualitative.Set1)\n",
    "        st.markdown('#### BoxPlot of '+Box_col+' Column')\n",
    "        st.plotly_chart(box_fig)\n",
    "        \n",
    "   ### Scatter Plot ###\n",
    "    st.sidebar.subheader('Scatter Plot')\n",
    "    scatt_X = st.sidebar.selectbox('Choose Scatter X Col : ',Numerical_Variables)\n",
    "    scatt_Y = st.sidebar.selectbox('Choose Scatter Y Col : ',Numerical_Variables)\n",
    "    color_scatter = st.sidebar.checkbox('Add Color')\n",
    "    if color_scatter:\n",
    "        c_scatter = st.sidebar.selectbox('Choose Color : ',Categorical_Variables)\n",
    "        Scatt_fig = px.scatter(data_frame=df,x=scatt_X,y=scatt_Y,color = c_scatter,color_discrete_sequence=px.colors.qualitative.Set1)\n",
    "        st.markdown('#### Scatter Plot Between '+ scatt_X +' & '+scatt_Y)\n",
    "        st.plotly_chart(Scatt_fig)\n",
    "    else:\n",
    "            Scatt_fig = px.scatter(data_frame=df,x=scatt_X,y=scatt_Y,color_discrete_sequence=px.colors.qualitative.Set1)\n",
    "            st.markdown('#### Scatter Plot Between '+ scatt_X +' & '+scatt_Y)\n",
    "            st.plotly_chart(Scatt_fig)\n",
    "            \n",
    "    ### Line Plot ###\n",
    "    st.sidebar.subheader('Line Plot')\n",
    "    line_X = st.sidebar.selectbox('Choose Line X Col : ',['Year'])\n",
    "    line_Y = st.sidebar.selectbox('Choose Line Y Col : ',Numerical_Variables)\n",
    "    df_line = df.groupby(line_X)[line_Y].mean()\n",
    "    line_fig = px.line(data_frame=df_line,color_discrete_sequence=['#990000'])\n",
    "    st.markdown('#### Line Plot Between '+ line_X +' & '+line_Y)\n",
    "    st.plotly_chart(line_fig)\n",
    "        \n",
    "    ### Correlation Matrix\n",
    "    st.sidebar.subheader('Correlation Matrix')\n",
    "    corr_vars = st.sidebar.multiselect('Choose Corr Variables : ',Numerical_Variables)\n",
    "    fig_corr = px.imshow(df[corr_vars].corr(),text_auto=True,color_continuous_scale=['#000000','#990000'])\n",
    "    st.markdown('#### Correlation Matrix')\n",
    "    st.plotly_chart(fig_corr)\n",
    "    \n",
    "## Categorical Charts Page\n",
    "def CategoricalCharts():\n",
    "    st.title('Categorical Charts Page')\n",
    "    ### Count Plot ###\n",
    "    st.sidebar.subheader('Count Plot')\n",
    "    count_col = st.sidebar.selectbox('Choose Count Column :' , Categorical_Variables)\n",
    "    ##Color part\n",
    "    color_count = st.sidebar.checkbox('Add Color')\n",
    "    if color_count :\n",
    "        c_count = st.sidebar.selectbox('Choose Color',Categorical_Variables)\n",
    "        count_fig = px.histogram(data_frame=df,x=count_col,barmode='group',color=c_count,color_discrete_sequence=px.colors.qualitative.Set1)\n",
    "        st.markdown('#### Count Plot of '+count_col+' Column')\n",
    "        st.plotly_chart(count_fig)\n",
    "    else:\n",
    "        count_fig = px.histogram(data_frame=df,x=count_col,barmode='group',color_discrete_sequence=['#990000'])\n",
    "        st.markdown('#### Count Plot of '+count_col+' Column')\n",
    "        st.plotly_chart(count_fig) \n",
    "                                       \n",
    "    ### Bar Plot ###\n",
    "    st.sidebar.subheader('Bar Plot')\n",
    "    bar_X = st.sidebar.selectbox('Choose Bar X Col : ', Categorical_Variables)\n",
    "    bar_Y = st.sidebar.selectbox('Choose Bar Y Col : ', Numerical_Variables)\n",
    "    color_bar = st.sidebar.checkbox('Select bar Color')\n",
    "    if color_bar :\n",
    "        c_bar = st.sidebar.selectbox('Choose bar Color :', Categorical_Variables)\n",
    "        Bar_fig = px.bar(data_frame=df,x=bar_X,y=bar_Y,color=c_bar,barmode='group',color_discrete_sequence=px.colors.qualitative.Set1)\n",
    "        st.markdown('#### Bar Plot Between '+ bar_X +' & '+bar_Y)\n",
    "        st.plotly_chart(Bar_fig)\n",
    "    else:\n",
    "        Bar_fig = px.bar(data_frame=df,x=bar_X,y=bar_Y,color_discrete_sequence=['#990000'])\n",
    "        st.markdown('#### Bar Plot Between '+ bar_X +' & '+bar_Y)\n",
    "        st.plotly_chart(Bar_fig)\n",
    "    \n",
    "    ### Violen Plot ###\n",
    "    st.sidebar.subheader('Violen Plot')\n",
    "    Violen_X = st.sidebar.selectbox('Choose Violen X Col : ', Categorical_Variables)\n",
    "    Violen_Y = st.sidebar.selectbox('Choose Violen Y Col : ', Numerical_Variables)\n",
    "    color_Violen = st.sidebar.checkbox('Select Violen Color')\n",
    "    if color_Violen :\n",
    "        c_Violen = st.sidebar.selectbox('Choose Violen Color', Categorical_Variables)\n",
    "        Violen_fig = px.violin(data_frame=df,x=Violen_X,y=Violen_Y,color=c_Violen,color_discrete_sequence=px.colors.qualitative.Set1)\n",
    "        st.markdown('#### Violen Plot Between '+ Violen_X +' & '+Violen_Y)\n",
    "        st.plotly_chart(Violen_fig)\n",
    "    else:\n",
    "        Violen_fig = px.violin(data_frame=df,x=Violen_X,y=Violen_Y,color_discrete_sequence=['#990000'])\n",
    "        st.markdown('#### Violen Plot Between '+ Violen_X +' & '+Violen_Y)\n",
    "        st.plotly_chart(Violen_fig)  \n",
    "    \n",
    "    ### Strip Plot ###\n",
    "    st.sidebar.subheader('Strip Plot')\n",
    "    Strip_X = st.sidebar.selectbox('Choose Strip X Col : ', Categorical_Variables)\n",
    "    Strip_Y = st.sidebar.selectbox('Choose Strip Y Col : ', Numerical_Variables)\n",
    "    color_Strip = st.sidebar.checkbox('Select Strip Color')\n",
    "    if color_Strip :\n",
    "        c_Strip = st.sidebar.selectbox('Choose Strip Color', Categorical_Variables)\n",
    "        Strip_fig = px.strip(data_frame=df,x=Strip_X,y=Strip_Y,color=c_Strip,color_discrete_sequence=px.colors.qualitative.Set1)\n",
    "        st.markdown('#### Strip Plot Between '+ Strip_X +' & '+Strip_Y)\n",
    "        st.plotly_chart(Strip_fig)\n",
    "    else:\n",
    "        Strip_fig = px.strip(data_frame=df,x=Strip_X,y=Strip_Y,color_discrete_sequence=['#990000'])\n",
    "        st.markdown('#### Strip Plot Between '+ Strip_X +' & '+Strip_Y)\n",
    "        st.plotly_chart(Strip_fig) \n",
    "dic = {\n",
    "    'Data Description':DataDescription,\n",
    "    'Numerical Charts':NumericalCharts,\n",
    "    'Categorical Charts':CategoricalCharts\n",
    "}\n",
    "st.sidebar.subheader('Pages Names')\n",
    "user_choice = st.sidebar.selectbox('Choose Page : ',dic.keys())\n",
    "dic[user_choice]()\n"
   ]
  },
  {
   "cell_type": "markdown",
   "id": "4ae553c8",
   "metadata": {},
   "source": [
    "<span style=\"color:#b30000;font-size:35px;\">\n",
    "    <strong>Summary Dashboard Code</strong><br><br></span>"
   ]
  },
  {
   "cell_type": "code",
   "execution_count": 209,
   "id": "7dd89fac",
   "metadata": {},
   "outputs": [
    {
     "name": "stdout",
     "output_type": "stream",
     "text": [
      "Overwriting Summary_Dashboard.py\n"
     ]
    }
   ],
   "source": [
    "%%writefile Summary_Dashboard.py \n",
    "\n",
    "import pandas as pd\n",
    "import plotly.express as px\n",
    "import plotly.figure_factory as ff\n",
    "import streamlit as st\n",
    "\n",
    "df = pd.read_json('Datasets/Analyzed_Dataset_json.json')\n",
    "df_languages = pd.read_csv('Datasets/languages_df.csv')\n",
    "df_technologies = pd.read_csv('Datasets/technologies_df.csv')\n",
    "\n",
    "Numerical_Variables = ['Age','Years_of_Experience','Current_Salary','Bonus+Stocks','Salary_One_Year_Ago','Bonus+Stocks_One_year_Ago','Number_of_Vacation_Days','Percentage_of_Salary_Change','Percentage_of_Bonus_Stocks_Change']\n",
    "Categorical_Variables = ['Gender','City','Position','Level','Main_Language_at_Work','Main_Technology','Contract_Duration','Company_Type','Company_Size','Year']\n",
    "\n",
    "## Fixing Year Column\n",
    "df['Year'] = df['Year'].apply(lambda r:str(r).split('.')[0])\n",
    "\n",
    "st.markdown('<p style=\"color:#0000e6;font-size:50px;text-align:center;\"><strong>Summary Dashboard </strong></p>',unsafe_allow_html=True)\n",
    "\n",
    "col1_1 , col1_2 , col1_3 = st.columns([2,1,2])\n",
    "col2_1 , col2_2 , col2_3 = st.columns([2,1,2])\n",
    "col3_1 , col3_2 , col3_3 = st.columns([2,1,2])\n",
    "\n",
    "\n",
    "with col1_1:\n",
    "    # Show the top 5 cities\n",
    "    df_city_head = df['City'].value_counts().head().reset_index()\n",
    "    fig1 = px.histogram(data_frame=df_city_head , x = 'count' , y = 'City' , height=300,width=450,text_auto=True ,\n",
    "                        color_discrete_sequence=['#2929a3']).update_yaxes(categoryorder='total ascending',automargin=True).update_layout(yaxis_title=' ',title={'text':' ','x':0.5,'xanchor': 'center','y':0.95,'font':{'color':'#2929a3','size':25}})  \n",
    "    st.plotly_chart(fig1)\n",
    "with col2_1:   \n",
    "    ## Show the Percentage of Gender Column\n",
    "    df_Gender_Percentage = (df['Gender'].value_counts(normalize=True)*100).round(1).reset_index()\n",
    "    colors_Gender = ['#2929a3','#cc0000','#008000']\n",
    "    fig3 = px.pie(data_frame=df_Gender_Percentage,values='proportion',names='Gender',color_discrete_sequence=colors_Gender,\n",
    "                  height=300,width=400)\n",
    "    st.plotly_chart(fig3)\n",
    "with col3_1:    \n",
    "    #Show The Distribution of Languages\n",
    "    fig5 = px.bar(data_frame=df_languages.sum().sort_values(ascending=False).head(4),text_auto=True,\n",
    "                  color_discrete_sequence=['#2929a3'],width=490,height=300,orientation='h').update_yaxes(categoryorder='total ascending').update_layout(xaxis_title='Language',yaxis_title='Count')\n",
    "    st.plotly_chart(fig5)\n",
    "\n",
    "                                            \n",
    "with col1_3:\n",
    "    #Show the top 5 Positions\n",
    "    df_top5_position = df['Position'].value_counts().head().reset_index()\n",
    "    fig2 = px.histogram(data_frame=df_top5_position , x='count',y='Position',text_auto=True,color_discrete_sequence=['#2929a3'],\n",
    "                        width=450,height=300).update_yaxes(categoryorder='total ascending',tickfont=dict(size=10),automargin=True)           \n",
    "    st.plotly_chart(fig2)\n",
    "with col2_3:\n",
    "    #Show top 10 Technologies\n",
    "    df_top10_technologies = df_technologies.sum().sort_values(ascending = False).head(10).reset_index().rename(columns={'index':'Technology',0:'Count'}) \n",
    "    fig4 = px.bar(data_frame= df_top10_technologies,x='Count',y='Technology',text_auto=True ,\n",
    "                  color_discrete_sequence=['#2929a3'], height=300,width=450).update_yaxes(categoryorder='total ascending',tickfont=dict(size=10),automargin=True).update_layout(font=dict(size=12))\n",
    "    st.plotly_chart(fig4)\n",
    "with col3_3:    \n",
    "    #Average Salary in each Year \n",
    "    df_year_salary = df.groupby('Year')['Current_Salary'].mean().round(0).reset_index().rename(columns={'Current_Salary':'Average_Salary'})\n",
    "    fig6 = px.line(data_frame=df_year_salary, x='Year',y='Average_Salary',color_discrete_sequence=['#2929a3'],\n",
    "                   height=300,width=450)                 \n",
    "    st.plotly_chart(fig6)   \n",
    "    \n",
    "    \n",
    "#Highest 10 Position in Salary\n",
    "df_Top10_Position_Salary = df.groupby('Position')['Current_Salary'].mean().sort_values(ascending=False).head(10).reset_index()\n",
    "fig7 = px.bar(data_frame=df_Top10_Position_Salary,x='Current_Salary',y='Position',text_auto=True,color_discrete_sequence=['#2929a3'],width=900,height=400).update_layout(yaxis_title=' ',title={'text':'','x':0.5,'xanchor': 'center','y':0.95,'font':{'color':'#2929a3','size':25}}).update_yaxes(categoryorder='total ascending',tickfont=dict(size=10),automargin=True)\n",
    "st.plotly_chart(fig7)"
   ]
  },
  {
   "cell_type": "markdown",
   "id": "16011c0b",
   "metadata": {},
   "source": [
    "<center><span style=\"color:#b30000;font-size:20px;\"><strong>Next File :  Mid_Project(Data Preprecessing)</strong></span></center>"
   ]
  },
  {
   "cell_type": "code",
   "execution_count": null,
   "id": "38af4e87",
   "metadata": {},
   "outputs": [],
   "source": []
  }
 ],
 "metadata": {
  "kernelspec": {
   "display_name": "Python 3 (ipykernel)",
   "language": "python",
   "name": "python3"
  },
  "language_info": {
   "codemirror_mode": {
    "name": "ipython",
    "version": 3
   },
   "file_extension": ".py",
   "mimetype": "text/x-python",
   "name": "python",
   "nbconvert_exporter": "python",
   "pygments_lexer": "ipython3",
   "version": "3.10.8"
  }
 },
 "nbformat": 4,
 "nbformat_minor": 5
}
