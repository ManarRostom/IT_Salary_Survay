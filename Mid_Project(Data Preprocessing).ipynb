{
 "cells": [
  {
   "cell_type": "markdown",
   "id": "7ce78f35",
   "metadata": {},
   "source": [
    "<center><span style=\"color:#b30000;font-size:40px;\"><strong>Epsilon Mid Project</strong></span></center>\n",
    "<center><span style=\"color:#b30000;font-size:30px;\"><br>IT Salary Survey EU (2018 - 2019 - 2020)<br><br><strong>(Data Preprocessing\n",
    "    Part)</strong></span></center>"
   ]
  },
  {
   "cell_type": "markdown",
   "id": "9b04a155",
   "metadata": {},
   "source": [
    "<span style=\"color:#2929a3;font-size:20px;\">Import Libraries</span>"
   ]
  },
  {
   "cell_type": "code",
   "execution_count": 636,
   "id": "ff23a155",
   "metadata": {},
   "outputs": [],
   "source": [
    "import pandas as pd\n",
    "import numpy as np"
   ]
  },
  {
   "cell_type": "markdown",
   "id": "a180117e",
   "metadata": {},
   "source": [
    "<span style=\"color:#2929a3;font-size:20px;\">Read Datasets </span>"
   ]
  },
  {
   "cell_type": "code",
   "execution_count": 637,
   "id": "39f402d6",
   "metadata": {},
   "outputs": [],
   "source": [
    "df = pd.read_json('Datasets/Analyzed_Dataset_json.json')\n",
    "df_languages = pd.read_csv('Datasets/languages_df.csv')\n",
    "df_technologies = pd.read_csv('Datasets/technologies_df.csv')"
   ]
  },
  {
   "cell_type": "markdown",
   "id": "913bb4b6",
   "metadata": {},
   "source": [
    "<span style=\"color:#2929a3;font-size:20px;\">Read Sample of The Dataset </span>"
   ]
  },
  {
   "cell_type": "code",
   "execution_count": 638,
   "id": "1dff7a7f",
   "metadata": {},
   "outputs": [
    {
     "data": {
      "text/html": [
       "<div>\n",
       "<style scoped>\n",
       "    .dataframe tbody tr th:only-of-type {\n",
       "        vertical-align: middle;\n",
       "    }\n",
       "\n",
       "    .dataframe tbody tr th {\n",
       "        vertical-align: top;\n",
       "    }\n",
       "\n",
       "    .dataframe thead th {\n",
       "        text-align: right;\n",
       "    }\n",
       "</style>\n",
       "<table border=\"1\" class=\"dataframe\">\n",
       "  <thead>\n",
       "    <tr style=\"text-align: right;\">\n",
       "      <th></th>\n",
       "      <th>Timestamp</th>\n",
       "      <th>Age</th>\n",
       "      <th>Gender</th>\n",
       "      <th>City</th>\n",
       "      <th>Position</th>\n",
       "      <th>Years_of_Experience</th>\n",
       "      <th>Level</th>\n",
       "      <th>Current_Salary</th>\n",
       "      <th>Bonus+Stocks</th>\n",
       "      <th>Salary_One_Year_Ago</th>\n",
       "      <th>Bonus+Stocks_One_year_Ago</th>\n",
       "      <th>Main_Language_at_Work</th>\n",
       "      <th>Main_Technology</th>\n",
       "      <th>Number_of_Vacation_Days</th>\n",
       "      <th>Contract_Duration</th>\n",
       "      <th>Company_Type</th>\n",
       "      <th>Company_Size</th>\n",
       "      <th>Year</th>\n",
       "      <th>Percentage_of_Salary_Change</th>\n",
       "      <th>Percentage_of_Bonus_Stocks_Change</th>\n",
       "    </tr>\n",
       "  </thead>\n",
       "  <tbody>\n",
       "    <tr>\n",
       "      <th>1382</th>\n",
       "      <td>NaT</td>\n",
       "      <td>NaN</td>\n",
       "      <td>Male</td>\n",
       "      <td>Frankfurt</td>\n",
       "      <td>Data Scientist</td>\n",
       "      <td>8.0</td>\n",
       "      <td>Senior</td>\n",
       "      <td>106000.0</td>\n",
       "      <td>NaN</td>\n",
       "      <td>98000.0</td>\n",
       "      <td>NaN</td>\n",
       "      <td>Deutsch</td>\n",
       "      <td>R</td>\n",
       "      <td>25.0</td>\n",
       "      <td>None</td>\n",
       "      <td>Product</td>\n",
       "      <td>100-1000</td>\n",
       "      <td>NaN</td>\n",
       "      <td>8.2</td>\n",
       "      <td>NaN</td>\n",
       "    </tr>\n",
       "    <tr>\n",
       "      <th>1545</th>\n",
       "      <td>NaT</td>\n",
       "      <td>25.0</td>\n",
       "      <td>Female</td>\n",
       "      <td>Moscow</td>\n",
       "      <td>Front End Developer</td>\n",
       "      <td>5.0</td>\n",
       "      <td>Senior</td>\n",
       "      <td>35300.0</td>\n",
       "      <td>NaN</td>\n",
       "      <td>NaN</td>\n",
       "      <td>NaN</td>\n",
       "      <td>Russian</td>\n",
       "      <td>Javascript / Typescript</td>\n",
       "      <td>28.0</td>\n",
       "      <td>Unlimited contract</td>\n",
       "      <td>Product</td>\n",
       "      <td>50-100</td>\n",
       "      <td>NaN</td>\n",
       "      <td>NaN</td>\n",
       "      <td>NaN</td>\n",
       "    </tr>\n",
       "    <tr>\n",
       "      <th>2205</th>\n",
       "      <td>2020-11-24 22:08:31</td>\n",
       "      <td>42.0</td>\n",
       "      <td>Female</td>\n",
       "      <td>Munich</td>\n",
       "      <td>Tester</td>\n",
       "      <td>12.0</td>\n",
       "      <td>No level</td>\n",
       "      <td>47500.0</td>\n",
       "      <td>47500.0</td>\n",
       "      <td>39000.0</td>\n",
       "      <td>39000.0</td>\n",
       "      <td>German</td>\n",
       "      <td>Java</td>\n",
       "      <td>28.0</td>\n",
       "      <td>Unlimited contract</td>\n",
       "      <td>Product</td>\n",
       "      <td>51-100</td>\n",
       "      <td>2020.0</td>\n",
       "      <td>21.8</td>\n",
       "      <td>21.8</td>\n",
       "    </tr>\n",
       "    <tr>\n",
       "      <th>777</th>\n",
       "      <td>NaT</td>\n",
       "      <td>23.0</td>\n",
       "      <td>Male</td>\n",
       "      <td>Berlin</td>\n",
       "      <td>DevOps</td>\n",
       "      <td>6.0</td>\n",
       "      <td>Senior</td>\n",
       "      <td>83000.0</td>\n",
       "      <td>NaN</td>\n",
       "      <td>63000.0</td>\n",
       "      <td>NaN</td>\n",
       "      <td>English</td>\n",
       "      <td>AWS</td>\n",
       "      <td>30.0</td>\n",
       "      <td>Unlimited contract</td>\n",
       "      <td>Startup</td>\n",
       "      <td>10-50</td>\n",
       "      <td>NaN</td>\n",
       "      <td>31.7</td>\n",
       "      <td>NaN</td>\n",
       "    </tr>\n",
       "    <tr>\n",
       "      <th>1901</th>\n",
       "      <td>2020-11-24 12:10:05</td>\n",
       "      <td>31.0</td>\n",
       "      <td>Female</td>\n",
       "      <td>Munich</td>\n",
       "      <td>QA Automation Engineer</td>\n",
       "      <td>7.0</td>\n",
       "      <td>Senior</td>\n",
       "      <td>68000.0</td>\n",
       "      <td>NaN</td>\n",
       "      <td>58000.0</td>\n",
       "      <td>NaN</td>\n",
       "      <td>English</td>\n",
       "      <td>Java</td>\n",
       "      <td>30.0</td>\n",
       "      <td>Unlimited contract</td>\n",
       "      <td>Product</td>\n",
       "      <td>1000+</td>\n",
       "      <td>2020.0</td>\n",
       "      <td>17.2</td>\n",
       "      <td>NaN</td>\n",
       "    </tr>\n",
       "  </tbody>\n",
       "</table>\n",
       "</div>"
      ],
      "text/plain": [
       "               Timestamp   Age  Gender       City                Position  \\\n",
       "1382                 NaT   NaN    Male  Frankfurt          Data Scientist   \n",
       "1545                 NaT  25.0  Female     Moscow     Front End Developer   \n",
       "2205 2020-11-24 22:08:31  42.0  Female     Munich                  Tester   \n",
       "777                  NaT  23.0    Male     Berlin                  DevOps   \n",
       "1901 2020-11-24 12:10:05  31.0  Female     Munich  QA Automation Engineer   \n",
       "\n",
       "      Years_of_Experience     Level  Current_Salary  Bonus+Stocks  \\\n",
       "1382                  8.0    Senior        106000.0           NaN   \n",
       "1545                  5.0    Senior         35300.0           NaN   \n",
       "2205                 12.0  No level         47500.0       47500.0   \n",
       "777                   6.0    Senior         83000.0           NaN   \n",
       "1901                  7.0    Senior         68000.0           NaN   \n",
       "\n",
       "      Salary_One_Year_Ago  Bonus+Stocks_One_year_Ago Main_Language_at_Work  \\\n",
       "1382              98000.0                        NaN               Deutsch   \n",
       "1545                  NaN                        NaN               Russian   \n",
       "2205              39000.0                    39000.0                German   \n",
       "777               63000.0                        NaN               English   \n",
       "1901              58000.0                        NaN               English   \n",
       "\n",
       "              Main_Technology  Number_of_Vacation_Days   Contract_Duration  \\\n",
       "1382                        R                     25.0                None   \n",
       "1545  Javascript / Typescript                     28.0  Unlimited contract   \n",
       "2205                     Java                     28.0  Unlimited contract   \n",
       "777                       AWS                     30.0  Unlimited contract   \n",
       "1901                     Java                     30.0  Unlimited contract   \n",
       "\n",
       "     Company_Type Company_Size    Year  Percentage_of_Salary_Change  \\\n",
       "1382      Product     100-1000     NaN                          8.2   \n",
       "1545      Product       50-100     NaN                          NaN   \n",
       "2205      Product       51-100  2020.0                         21.8   \n",
       "777       Startup        10-50     NaN                         31.7   \n",
       "1901      Product        1000+  2020.0                         17.2   \n",
       "\n",
       "      Percentage_of_Bonus_Stocks_Change  \n",
       "1382                                NaN  \n",
       "1545                                NaN  \n",
       "2205                               21.8  \n",
       "777                                 NaN  \n",
       "1901                                NaN  "
      ]
     },
     "execution_count": 638,
     "metadata": {},
     "output_type": "execute_result"
    }
   ],
   "source": [
    "df.sample(5)"
   ]
  },
  {
   "cell_type": "code",
   "execution_count": 639,
   "id": "0aa48d09",
   "metadata": {},
   "outputs": [],
   "source": [
    "## Fixing Year Column\n",
    "df['Year'] = df['Year'].apply(lambda r:str(r).split('.')[0])"
   ]
  },
  {
   "cell_type": "code",
   "execution_count": 640,
   "id": "4e30378e",
   "metadata": {},
   "outputs": [
    {
     "name": "stdout",
     "output_type": "stream",
     "text": [
      "<class 'pandas.core.frame.DataFrame'>\n",
      "Index: 3001 entries, 0 to 3000\n",
      "Data columns (total 20 columns):\n",
      " #   Column                             Non-Null Count  Dtype         \n",
      "---  ------                             --------------  -----         \n",
      " 0   Timestamp                          2012 non-null   datetime64[ns]\n",
      " 1   Age                                2774 non-null   float64       \n",
      " 2   Gender                             2978 non-null   object        \n",
      " 3   City                               2972 non-null   object        \n",
      " 4   Position                           2967 non-null   object        \n",
      " 5   Years_of_Experience                2953 non-null   float64       \n",
      " 6   Level                              2952 non-null   object        \n",
      " 7   Current_Salary                     2985 non-null   float64       \n",
      " 8   Bonus+Stocks                       982 non-null    float64       \n",
      " 9   Salary_One_Year_Ago                2078 non-null   float64       \n",
      " 10  Bonus+Stocks_One_year_Ago          714 non-null    float64       \n",
      " 11  Main_Language_at_Work              2964 non-null   object        \n",
      " 12  Main_Technology                    1977 non-null   object        \n",
      " 13  Number_of_Vacation_Days            2109 non-null   float64       \n",
      " 14  Contract_Duration                  2180 non-null   object        \n",
      " 15  Company_Type                       2911 non-null   object        \n",
      " 16  Company_Size                       2955 non-null   object        \n",
      " 17  Year                               3001 non-null   object        \n",
      " 18  Percentage_of_Salary_Change        2077 non-null   float64       \n",
      " 19  Percentage_of_Bonus_Stocks_Change  455 non-null    float64       \n",
      "dtypes: datetime64[ns](1), float64(9), object(10)\n",
      "memory usage: 492.4+ KB\n"
     ]
    }
   ],
   "source": [
    "df.info()"
   ]
  },
  {
   "cell_type": "code",
   "execution_count": 641,
   "id": "b5e7964f",
   "metadata": {
    "scrolled": false
   },
   "outputs": [
    {
     "data": {
      "text/plain": [
       "Timestamp                            32.955681\n",
       "Age                                   7.564145\n",
       "Gender                                0.766411\n",
       "City                                  0.966345\n",
       "Position                              1.132956\n",
       "Years_of_Experience                   1.599467\n",
       "Level                                 1.632789\n",
       "Current_Salary                        0.533156\n",
       "Bonus+Stocks                         67.277574\n",
       "Salary_One_Year_Ago                  30.756415\n",
       "Bonus+Stocks_One_year_Ago            76.207931\n",
       "Main_Language_at_Work                 1.232922\n",
       "Main_Technology                      34.121959\n",
       "Number_of_Vacation_Days              29.723426\n",
       "Contract_Duration                    27.357547\n",
       "Company_Type                          2.999000\n",
       "Company_Size                          1.532822\n",
       "Year                                  0.000000\n",
       "Percentage_of_Salary_Change          30.789737\n",
       "Percentage_of_Bonus_Stocks_Change    84.838387\n",
       "dtype: float64"
      ]
     },
     "execution_count": 641,
     "metadata": {},
     "output_type": "execute_result"
    }
   ],
   "source": [
    "df.isnull().mean() * 100"
   ]
  },
  {
   "cell_type": "code",
   "execution_count": 642,
   "id": "d3e60a9e",
   "metadata": {},
   "outputs": [],
   "source": [
    "## Drop unnessary columns\n",
    "df.drop(['Timestamp','Bonus+Stocks','Bonus+Stocks_One_year_Ago','Percentage_of_Bonus_Stocks_Change'], axis=1, inplace=True)"
   ]
  },
  {
   "cell_type": "code",
   "execution_count": 643,
   "id": "182d35be",
   "metadata": {},
   "outputs": [
    {
     "data": {
      "text/plain": [
       "45"
      ]
     },
     "execution_count": 643,
     "metadata": {},
     "output_type": "execute_result"
    }
   ],
   "source": [
    "## Check Duplicates\n",
    "df.duplicated().sum()"
   ]
  },
  {
   "cell_type": "code",
   "execution_count": 644,
   "id": "11a29845",
   "metadata": {},
   "outputs": [],
   "source": [
    "## Drop Duplicates\n",
    "df.drop_duplicates(inplace=True)"
   ]
  },
  {
   "cell_type": "markdown",
   "id": "45e52c15",
   "metadata": {},
   "source": [
    "<span style=\"color:#2929a3;font-size:25px;\">Impute Categorical Columns </span>"
   ]
  },
  {
   "cell_type": "code",
   "execution_count": 645,
   "id": "ab0f98d0",
   "metadata": {},
   "outputs": [],
   "source": [
    "## Impute Gender Column\n",
    "gender_mode = df['Gender'].mode()[0]\n",
    "df['Gender'].fillna(gender_mode,inplace=True)"
   ]
  },
  {
   "cell_type": "code",
   "execution_count": 646,
   "id": "580c5f17",
   "metadata": {},
   "outputs": [],
   "source": [
    "## Impute City Column\n",
    "city_mode = df['City'].mode()[0]\n",
    "df['City'].fillna(city_mode,inplace=True)"
   ]
  },
  {
   "cell_type": "code",
   "execution_count": 647,
   "id": "a2b008e7",
   "metadata": {},
   "outputs": [],
   "source": [
    "## Impute Position Column\n",
    "Position_mode = df['Position'].mode()[0]\n",
    "df['Position'].fillna(Position_mode,inplace=True)"
   ]
  },
  {
   "cell_type": "code",
   "execution_count": 648,
   "id": "0ae5562a",
   "metadata": {},
   "outputs": [],
   "source": [
    "## Impute Level Column\n",
    "level_mode = df['Level'].mode()[0]\n",
    "df['Level'].fillna(level_mode,inplace=True)"
   ]
  },
  {
   "cell_type": "code",
   "execution_count": 649,
   "id": "57216117",
   "metadata": {},
   "outputs": [],
   "source": [
    "## Impute Contract Duration\n",
    "Contract_mode = df['Contract_Duration'].mode()[0]\n",
    "df['Contract_Duration'].fillna(Contract_mode, inplace=True)"
   ]
  },
  {
   "cell_type": "code",
   "execution_count": 650,
   "id": "1e6ff772",
   "metadata": {},
   "outputs": [],
   "source": [
    "## Impute Company Type\n",
    "type_mode = df['Company_Type'].mode()[0]\n",
    "df['Company_Type'].fillna(type_mode, inplace=True)"
   ]
  },
  {
   "cell_type": "code",
   "execution_count": 651,
   "id": "cbeacaad",
   "metadata": {},
   "outputs": [],
   "source": [
    "## Impute Company Size\n",
    "size_mode = df['Company_Size'].mode()[0]\n",
    "df['Company_Size'].fillna(size_mode, inplace=True)"
   ]
  },
  {
   "cell_type": "markdown",
   "id": "b3c13014",
   "metadata": {},
   "source": [
    "<span style=\"color:#b30000;font-size:35px;\">\n",
    "    <strong>Encode Categorical Columns</strong></span><br>"
   ]
  },
  {
   "cell_type": "markdown",
   "id": "e18b50b5",
   "metadata": {},
   "source": [
    "<span style=\"color:#2929a3;font-size:25px;\">Encode Nominal Variables </span>"
   ]
  },
  {
   "cell_type": "code",
   "execution_count": 652,
   "id": "a15238d7",
   "metadata": {},
   "outputs": [],
   "source": [
    "from category_encoders import BinaryEncoder"
   ]
  },
  {
   "cell_type": "code",
   "execution_count": 653,
   "id": "c2b78b2a",
   "metadata": {},
   "outputs": [],
   "source": [
    "encoder = BinaryEncoder()"
   ]
  },
  {
   "cell_type": "code",
   "execution_count": 654,
   "id": "dcc30667",
   "metadata": {},
   "outputs": [],
   "source": [
    "transformed_columns = pd.DataFrame(encoder.fit_transform(df[['Gender','City','Position','Company_Type','Year']]),columns=encoder.get_feature_names_out())"
   ]
  },
  {
   "cell_type": "code",
   "execution_count": 655,
   "id": "32334eb5",
   "metadata": {},
   "outputs": [],
   "source": [
    "## Concat transformed_columns, df_languages and df_technologies\n",
    "df = pd.concat([df,transformed_columns,df_languages,df_technologies] , axis=1)"
   ]
  },
  {
   "cell_type": "code",
   "execution_count": 656,
   "id": "560dbd3d",
   "metadata": {},
   "outputs": [],
   "source": [
    "## Drop Original Columns\n",
    "df.drop(['Gender','City','Position','Main_Language_at_Work','Main_Technology','Company_Type','Year'] , axis=1 , inplace=True)"
   ]
  },
  {
   "cell_type": "code",
   "execution_count": 657,
   "id": "e1c78ffd",
   "metadata": {},
   "outputs": [
    {
     "data": {
      "text/plain": [
       "21"
      ]
     },
     "execution_count": 657,
     "metadata": {},
     "output_type": "execute_result"
    }
   ],
   "source": [
    "## Check Duplicates\n",
    "df.duplicated().sum()"
   ]
  },
  {
   "cell_type": "code",
   "execution_count": 658,
   "id": "9364cd88",
   "metadata": {},
   "outputs": [],
   "source": [
    "## Drop Duplicates\n",
    "df.drop_duplicates(inplace=True)"
   ]
  },
  {
   "cell_type": "markdown",
   "id": "6af53d3d",
   "metadata": {},
   "source": [
    "<span style=\"color:#2929a3;font-size:25px;\">Encode Ordinal Variables </span>"
   ]
  },
  {
   "cell_type": "markdown",
   "id": "d488cdad",
   "metadata": {},
   "source": [
    "<span style=\"color:#2929a3;font-size:17px;\">Encode Level Column </span>"
   ]
  },
  {
   "cell_type": "code",
   "execution_count": 659,
   "id": "dfc5d744",
   "metadata": {},
   "outputs": [
    {
     "data": {
      "text/plain": [
       "array(['Senior', 'Middle', 'Junior', 'Head', 'Principal', 'No level',\n",
       "       'VP', 'Manager', 'CTO', 'Director', 'Key', 'Intern', 'Student',\n",
       "       'C-Level', 'Entry level', 'Self employed', nan], dtype=object)"
      ]
     },
     "execution_count": 659,
     "metadata": {},
     "output_type": "execute_result"
    }
   ],
   "source": [
    "df['Level'].unique()"
   ]
  },
  {
   "cell_type": "code",
   "execution_count": 660,
   "id": "ec993b28",
   "metadata": {},
   "outputs": [],
   "source": [
    "level_dic = {\n",
    "    \"Student\":1,\n",
    "    'Entry level':2,\n",
    "    'intern':3,\n",
    "    'Junior':4,\n",
    "    'Middle':5,\n",
    "    'Senior':6,\n",
    "    'Manager':7,\n",
    "    'Director':8,\n",
    "    'Principal':9,\n",
    "    'Head':10,\n",
    "    'VP':11,\n",
    "    'C-Level':12,\n",
    "    'CTO':13,\n",
    "    'Key':14,\n",
    "    'No level':np.nan,\n",
    "    'Self employes':np.nan\n",
    "}"
   ]
  },
  {
   "cell_type": "code",
   "execution_count": 661,
   "id": "9727cd37",
   "metadata": {},
   "outputs": [],
   "source": [
    "df['Level'] = df['Level'].map(level_dic)"
   ]
  },
  {
   "cell_type": "markdown",
   "id": "d30606b1",
   "metadata": {},
   "source": [
    "<span style=\"color:#2929a3;font-size:17px;\">Encode Contract Duration Column </span>"
   ]
  },
  {
   "cell_type": "code",
   "execution_count": 662,
   "id": "9c55cb86",
   "metadata": {},
   "outputs": [
    {
     "data": {
      "text/plain": [
       "array(['Unlimited contract', '6 months', 'more than 1 year', '1 year',\n",
       "       'less than 3 months', '3 months', 'Temporary contract', '0', nan],\n",
       "      dtype=object)"
      ]
     },
     "execution_count": 662,
     "metadata": {},
     "output_type": "execute_result"
    }
   ],
   "source": [
    "df['Contract_Duration'].unique()"
   ]
  },
  {
   "cell_type": "code",
   "execution_count": 663,
   "id": "ee10cd24",
   "metadata": {},
   "outputs": [],
   "source": [
    "Contract_dic = {\n",
    "    '0':0,\n",
    "    'Temporary contract':1,\n",
    "    'less than 3 months':2,\n",
    "    '3 months':3,\n",
    "    '6 months':4,\n",
    "    '1 year':5,\n",
    "    'more than 1 year':6,\n",
    "    'Unlimited contract':7\n",
    "}"
   ]
  },
  {
   "cell_type": "code",
   "execution_count": 664,
   "id": "f08219f1",
   "metadata": {},
   "outputs": [],
   "source": [
    "df['Contract_Duration'] = df['Contract_Duration'].map(Contract_dic)"
   ]
  },
  {
   "cell_type": "markdown",
   "id": "c5826885",
   "metadata": {},
   "source": [
    "<span style=\"color:#2929a3;font-size:17px;\">Encode Company Size Column </span>"
   ]
  },
  {
   "cell_type": "code",
   "execution_count": 665,
   "id": "0c8424a6",
   "metadata": {},
   "outputs": [
    {
     "data": {
      "text/plain": [
       "array(['100-1000', '50-100', '1000+', '10-50', 'up to 10', '51-100',\n",
       "       '101-1000', '11-50', nan], dtype=object)"
      ]
     },
     "execution_count": 665,
     "metadata": {},
     "output_type": "execute_result"
    }
   ],
   "source": [
    "df['Company_Size'].unique()"
   ]
  },
  {
   "cell_type": "code",
   "execution_count": 666,
   "id": "a5792ada",
   "metadata": {},
   "outputs": [],
   "source": [
    "Size_dic={\n",
    "    'up to 10':1,\n",
    "    '10-50':2,\n",
    "    '11-50':2,\n",
    "    '50-100':3,\n",
    "    '51-100':3,\n",
    "    '100-1000':4,\n",
    "    '101-1000':4,\n",
    "    '1000+':5\n",
    "}"
   ]
  },
  {
   "cell_type": "code",
   "execution_count": 667,
   "id": "912e65d0",
   "metadata": {},
   "outputs": [],
   "source": [
    "df['Company_Size'] = df['Company_Size'].map(Size_dic)"
   ]
  },
  {
   "cell_type": "markdown",
   "id": "a75b4bbe",
   "metadata": {},
   "source": [
    "<span style=\"color:#b30000;font-size:35px;\">\n",
    "    <strong>Split Data to Train and Test Set</strong></span><br>"
   ]
  },
  {
   "cell_type": "code",
   "execution_count": 668,
   "id": "1e89741d",
   "metadata": {},
   "outputs": [],
   "source": [
    "from sklearn.model_selection import train_test_split"
   ]
  },
  {
   "cell_type": "code",
   "execution_count": 669,
   "id": "7ce80fd5",
   "metadata": {},
   "outputs": [],
   "source": [
    "## Assume that Current_Salary is the target \n",
    "x = df.drop('Current_Salary', axis=1)\n",
    "y = df['Current_Salary']"
   ]
  },
  {
   "cell_type": "code",
   "execution_count": 670,
   "id": "3930c8db",
   "metadata": {},
   "outputs": [],
   "source": [
    "x_train, x_test, y_train, y_test = train_test_split(x, y, test_size=0.20, random_state=7)"
   ]
  },
  {
   "cell_type": "markdown",
   "id": "44ad0c46",
   "metadata": {},
   "source": [
    "<span style=\"color:#2929a3;font-size:25px;\">Impute Numerical Columns </span>"
   ]
  },
  {
   "cell_type": "code",
   "execution_count": 671,
   "id": "c8c12dd9",
   "metadata": {},
   "outputs": [],
   "source": [
    "from sklearn.impute import KNNImputer"
   ]
  },
  {
   "cell_type": "code",
   "execution_count": 672,
   "id": "a574d012",
   "metadata": {},
   "outputs": [],
   "source": [
    "imputer = KNNImputer(n_neighbors=5)"
   ]
  },
  {
   "cell_type": "code",
   "execution_count": 673,
   "id": "db892c3a",
   "metadata": {},
   "outputs": [],
   "source": [
    "col = x_train.columns"
   ]
  },
  {
   "cell_type": "code",
   "execution_count": 674,
   "id": "be0c2555",
   "metadata": {},
   "outputs": [],
   "source": [
    "x_train = pd.DataFrame(imputer.fit_transform(x_train),columns=col)"
   ]
  },
  {
   "cell_type": "code",
   "execution_count": 675,
   "id": "a7f7bd4f",
   "metadata": {},
   "outputs": [],
   "source": [
    "x_test = imputer.transform(x_test)"
   ]
  },
  {
   "cell_type": "markdown",
   "id": "a6bf18cc",
   "metadata": {},
   "source": [
    "<span style=\"color:#b30000;font-size:35px;\">\n",
    "    <strong>Apply Feature Scaling</strong></span><br>"
   ]
  },
  {
   "cell_type": "code",
   "execution_count": 676,
   "id": "cfbaaeda",
   "metadata": {},
   "outputs": [],
   "source": [
    "from sklearn.preprocessing import RobustScaler"
   ]
  },
  {
   "cell_type": "code",
   "execution_count": 677,
   "id": "09c8f655",
   "metadata": {},
   "outputs": [],
   "source": [
    "scaler = RobustScaler()"
   ]
  },
  {
   "cell_type": "code",
   "execution_count": 678,
   "id": "76e8232e",
   "metadata": {},
   "outputs": [],
   "source": [
    "x_train = pd.DataFrame(scaler.fit_transform(x_train), columns=x_train.columns)"
   ]
  },
  {
   "cell_type": "code",
   "execution_count": 679,
   "id": "c199de83",
   "metadata": {},
   "outputs": [
    {
     "name": "stderr",
     "output_type": "stream",
     "text": [
      "C:\\Users\\NOTEBOOK\\anaconda3\\envs\\ML\\lib\\site-packages\\sklearn\\base.py:439: UserWarning: X does not have valid feature names, but RobustScaler was fitted with feature names\n",
      "  warnings.warn(\n"
     ]
    }
   ],
   "source": [
    "x_test = scaler.transform(x_test)"
   ]
  }
 ],
 "metadata": {
  "kernelspec": {
   "display_name": "Python 3 (ipykernel)",
   "language": "python",
   "name": "python3"
  },
  "language_info": {
   "codemirror_mode": {
    "name": "ipython",
    "version": 3
   },
   "file_extension": ".py",
   "mimetype": "text/x-python",
   "name": "python",
   "nbconvert_exporter": "python",
   "pygments_lexer": "ipython3",
   "version": "3.10.8"
  }
 },
 "nbformat": 4,
 "nbformat_minor": 5
}
